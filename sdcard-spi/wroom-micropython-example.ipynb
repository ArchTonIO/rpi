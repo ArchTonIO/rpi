{
 "cells": [
  {
   "cell_type": "code",
   "execution_count": 1,
   "metadata": {},
   "outputs": [
    {
     "name": "stdout",
     "output_type": "stream",
     "text": [
      "\u001b[34mConnecting to --port=/dev/ttyUSB0 --baud=115200 \u001b[0m\n",
      "\u001b[34mReady.\n",
      "\u001b[0m"
     ]
    }
   ],
   "source": [
    "%serialconnect to --port=/dev/ttyUSB0"
   ]
  },
  {
   "cell_type": "code",
   "execution_count": 8,
   "metadata": {},
   "outputs": [
    {
     "name": "stdout",
     "output_type": "stream",
     "text": [
      "['boot.py', 'sdcard.py']\r\n"
     ]
    }
   ],
   "source": [
    "import os\n",
    "print(os.listdir())"
   ]
  },
  {
   "cell_type": "code",
   "execution_count": 10,
   "metadata": {},
   "outputs": [
    {
     "name": "stderr",
     "output_type": "stream",
     "text": [
      "Traceback (most recent call last):\n",
      "  File \"<stdin>\", line 4, in <module>\n",
      "  File \"sdcard.py\", line 54, in __init__\n",
      "  File \"sdcard.py\", line 98, in init_card\n",
      "  File \"sdcard.py\", line 181, in readinto\n",
      "OSError: timeout waiting for response\n"
     ]
    }
   ],
   "source": [
    "import os, machine, sdcard\n",
    "from machine import Pin\n",
    "spiid = machine.SPI(-1,  sck = Pin(18), mosi = Pin(23), miso = Pin(19))\n",
    "sd = sdcard.SDCard(spiid, Pin(5))  # hard reset required after wiringSS\n"
   ]
  },
  {
   "cell_type": "code",
   "execution_count": 12,
   "metadata": {},
   "outputs": [
    {
     "name": "stderr",
     "output_type": "stream",
     "text": [
      "Traceback (most recent call last):\n",
      "  File \"<stdin>\", line 4, in <module>\n",
      "  File \"sdcard.py\", line 54, in __init__\n",
      "  File \"sdcard.py\", line 98, in init_card\n",
      "  File \"sdcard.py\", line 181, in readinto\n",
      "OSError: timeout waiting for response\n"
     ]
    }
   ],
   "source": [
    "# this section isn't exactly right\n",
    "#os.umount('/')       # only if you want to unmount flash (NOT REQUIRED!)\n",
    "vfs = os.VfsFat(sd)   # is this required?\n",
    "os.mount(vfs, '/sd')   # or '/' if you did the umount command before\n",
    "#os.listdir()         # you'll see a new '/sd' folder\n",
    "#os.statvfs('/sd')\t # size of sd card = [0]*[2] bytes (free: [0]*[3])\n",
    "os.chdir('sd')        # to change directory (if you kept '/')\n",
    "os.listdir()         # you'll see the sd card's contents (or listdir('/sd') from outside)"
   ]
  },
  {
   "cell_type": "code",
   "execution_count": null,
   "metadata": {},
   "outputs": [],
   "source": []
  }
 ],
 "metadata": {
  "kernelspec": {
   "display_name": "MicroPython - USB",
   "language": "micropython",
   "name": "micropython"
  },
  "language_info": {
   "codemirror_mode": "python",
   "file_extension": ".py",
   "mimetype": "text/python",
   "name": "micropython"
  }
 },
 "nbformat": 4,
 "nbformat_minor": 2
}
