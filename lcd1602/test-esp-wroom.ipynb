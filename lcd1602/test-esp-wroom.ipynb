{
 "cells": [
  {
   "cell_type": "code",
   "execution_count": 1,
   "metadata": {},
   "outputs": [
    {
     "name": "stdout",
     "output_type": "stream",
     "text": [
      "\u001b[34mConnecting to --port=/dev/ttyUSB0 --baud=115200 \u001b[0m\n",
      "\u001b[34mReady.\n",
      "\u001b[0m"
     ]
    }
   ],
   "source": [
    "%serialconnect --port /dev/ttyUSB0"
   ]
  },
  {
   "cell_type": "code",
   "execution_count": 9,
   "metadata": {},
   "outputs": [],
   "source": [
    "from machine import Pin\n",
    "from esp32_gpio_lcd import GpioLcd\n",
    "from utime import sleep_ms, ticks_ms\n",
    "\n",
    "def test():\n",
    "    \"\"\"Test function for verifying basic functionality.\"\"\"\n",
    "    print(\"Running test_main\")\n",
    "    lcd = GpioLcd(rs_pin=Pin(2),\n",
    "                  enable_pin=Pin(4),\n",
    "                  d4_pin=Pin(5),\n",
    "                  d5_pin=Pin(18),\n",
    "                  d6_pin=Pin(19),\n",
    "                  d7_pin=Pin(21),\n",
    "                  num_lines=2, num_columns=16)\n",
    "    lcd.putstr(\"It Works!\\nSecond Line\")\n",
    "    sleep_ms(3000)\n",
    "    lcd.clear()\n",
    "    count = 0\n",
    "    while True:\n",
    "        lcd.move_to(0, 0)\n",
    "        lcd.putstr(\"%7d\" % (ticks_ms() // 1000))\n",
    "        sleep_ms(1000)\n",
    "        count += 1\n",
    "\n",
    "    "
   ]
  },
  {
   "cell_type": "code",
   "execution_count": null,
   "metadata": {},
   "outputs": [
    {
     "name": "stdout",
     "output_type": "stream",
     "text": [
      "Running test_main\n",
      ".................................................................................................................................................................................................................................................................................................................................................................................................................................................................................................................................................................................................................................................................................."
     ]
    }
   ],
   "source": [
    "test()"
   ]
  },
  {
   "cell_type": "code",
   "execution_count": null,
   "metadata": {},
   "outputs": [],
   "source": []
  }
 ],
 "metadata": {
  "kernelspec": {
   "display_name": "MicroPython - USB",
   "language": "micropython",
   "name": "micropython"
  },
  "language_info": {
   "codemirror_mode": "python",
   "file_extension": ".py",
   "mimetype": "text/python",
   "name": "micropython"
  }
 },
 "nbformat": 4,
 "nbformat_minor": 2
}
