{
 "cells": [
  {
   "cell_type": "code",
   "execution_count": 47,
   "metadata": {},
   "outputs": [
    {
     "name": "stdout",
     "output_type": "stream",
     "text": [
      "\u001b[34mConnecting to --port=/dev/ttyUSB1 --baud=115200 \u001b[0m\n",
      "\u001b[34mReady.\n",
      "\u001b[0m"
     ]
    }
   ],
   "source": [
    "%serialconnect to --port=/dev/ttyUSB1"
   ]
  },
  {
   "cell_type": "code",
   "execution_count": 65,
   "metadata": {},
   "outputs": [],
   "source": [
    "from machine import Pin, SPI\n",
    "from utime import sleep_ms\n",
    "import random"
   ]
  },
  {
   "cell_type": "code",
   "execution_count": 92,
   "metadata": {},
   "outputs": [],
   "source": [
    "cs_pin = Pin(15, Pin.OUT) # aka SS slave select\n",
    "cs_pin.on()"
   ]
  },
  {
   "cell_type": "code",
   "execution_count": 51,
   "metadata": {},
   "outputs": [],
   "source": [
    "spi = SPI(sck=Pin(14), mosi=Pin(13), miso=Pin(12))"
   ]
  },
  {
   "cell_type": "code",
   "execution_count": 60,
   "metadata": {},
   "outputs": [],
   "source": [
    "def maxTransfer(address, value):\n",
    "    cs_pin.off()\n",
    "    spi.write(bytearray([address, value]))\n",
    "    cs_pin.on()"
   ]
  },
  {
   "cell_type": "code",
   "execution_count": 61,
   "metadata": {},
   "outputs": [],
   "source": [
    "#initialise device\n",
    "maxTransfer(0x0F, 0x00);\n",
    "maxTransfer(0x09, 0xFF); # enable mode B\n",
    "maxTransfer(0x0A, 0x0F); # set intensity\n",
    "maxTransfer(0x0B, 0x07); # use all pins\n",
    "maxTransfer(0x0C, 0x01); # turn on chip"
   ]
  },
  {
   "cell_type": "code",
   "execution_count": 86,
   "metadata": {},
   "outputs": [],
   "source": [
    "def randomise():\n",
    "    for i in range(8):\n",
    "        r = random.getrandbits(9) % 10\n",
    "        maxTransfer(8-i, r)\n",
    "        sleep_ms(1)"
   ]
  },
  {
   "cell_type": "code",
   "execution_count": 91,
   "metadata": {},
   "outputs": [
    {
     "name": "stdout",
     "output_type": "stream",
     "text": [
      "....................Finished\n"
     ]
    }
   ],
   "source": [
    "def loop():\n",
    "    for x in range(20):\n",
    "        randomise()\n",
    "        sleep_ms(5000)\n",
    "loop()\n",
    "print('Finished')"
   ]
  },
  {
   "cell_type": "code",
   "execution_count": 77,
   "metadata": {},
   "outputs": [],
   "source": [
    "#spi.deinit()"
   ]
  },
  {
   "cell_type": "code",
   "execution_count": null,
   "metadata": {},
   "outputs": [],
   "source": []
  }
 ],
 "metadata": {
  "kernelspec": {
   "display_name": "MicroPython - USB",
   "language": "micropython",
   "name": "micropython"
  },
  "language_info": {
   "codemirror_mode": "python",
   "file_extension": ".py",
   "mimetype": "text/python",
   "name": "micropython"
  }
 },
 "nbformat": 4,
 "nbformat_minor": 2
}
