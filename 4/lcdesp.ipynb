{
 "cells": [
  {
   "cell_type": "code",
   "execution_count": 7,
   "metadata": {},
   "outputs": [
    {
     "name": "stdout",
     "output_type": "stream",
     "text": [
      "\u001b[34mConnecting to --port=/dev/ttyUSB0 --baud=115200 \u001b[0m\n",
      "\u001b[34mReady.\n",
      "\u001b[0m"
     ]
    }
   ],
   "source": [
    "%serialconnect to --port=/dev/ttyUSB0"
   ]
  },
  {
   "cell_type": "code",
   "execution_count": 37,
   "metadata": {},
   "outputs": [],
   "source": [
    "from machine import Pin, SPI\n",
    "from utime import sleep_ms"
   ]
  },
  {
   "cell_type": "code",
   "execution_count": 43,
   "metadata": {},
   "outputs": [],
   "source": [
    "#rs_pin = Pin(12) # stolen MISO\n",
    "cs_pin = Pin(15, Pin.OUT) # aka SS slave select\n",
    "cs_pin.on()"
   ]
  },
  {
   "cell_type": "code",
   "execution_count": 58,
   "metadata": {},
   "outputs": [],
   "source": [
    "#spi = SPI(sck=Pin(14), mosi=Pin(13), miso=Pin(12))\n",
    "spi = SPI(1)\n",
    "spi.init(phase = 0)\n",
    "spi.init(baudrate=400000)"
   ]
  },
  {
   "cell_type": "code",
   "execution_count": 60,
   "metadata": {},
   "outputs": [],
   "source": [
    "\n",
    "def write_val(csv, c):\n",
    "    global cs_pin, rs_pin, spi\n",
    "    Pin(12).value(csv)\n",
    "    cs_pin.off()\n",
    "    spi.write(bytearray([c]))\n",
    "    #print(nbytes)\n",
    "    cs_pin.on()\n",
    "    sleep_ms(60)\n"
   ]
  },
  {
   "cell_type": "code",
   "execution_count": 61,
   "metadata": {},
   "outputs": [],
   "source": [
    "contrast = 0x70  + 0b1000 # from 0x7C\n",
    "display = 0b1111 # ori 0x0F\n",
    "init = [0x39, 0x1D, 0x50, 0x6C, contrast , 0x38, display, 0x01, 0x06]\n",
    "for c in init: write_val(0, c)\n"
   ]
  },
  {
   "cell_type": "code",
   "execution_count": 62,
   "metadata": {},
   "outputs": [],
   "source": [
    "for c in ['H', 'E', 'L', 'L', 'O']: write_val(1, ord(c))"
   ]
  },
  {
   "cell_type": "code",
   "execution_count": 63,
   "metadata": {},
   "outputs": [],
   "source": [
    "spi.deinit()"
   ]
  }
 ],
 "metadata": {
  "kernelspec": {
   "display_name": "MicroPython - USB",
   "language": "micropython",
   "name": "micropython"
  },
  "language_info": {
   "codemirror_mode": "python",
   "file_extension": ".py",
   "mimetype": "text/python",
   "name": "micropython"
  }
 },
 "nbformat": 4,
 "nbformat_minor": 2
}
